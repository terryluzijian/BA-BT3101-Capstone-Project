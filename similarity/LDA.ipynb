{
 "cells": [
  {
   "cell_type": "code",
   "execution_count": 21,
   "metadata": {
    "collapsed": true,
    "deletable": true,
    "editable": true
   },
   "outputs": [],
   "source": [
    "import pandas as pd\n",
    "import numpy as np\n",
    "import re"
   ]
  },
  {
   "cell_type": "code",
   "execution_count": 2,
   "metadata": {
    "collapsed": false,
    "deletable": true,
    "editable": true
   },
   "outputs": [
    {
     "data": {
      "text/html": [
       "<div>\n",
       "<table border=\"1\" class=\"dataframe\">\n",
       "  <thead>\n",
       "    <tr style=\"text-align: right;\">\n",
       "      <th></th>\n",
       "      <th>Relevant Research Area</th>\n",
       "    </tr>\n",
       "  </thead>\n",
       "  <tbody>\n",
       "    <tr>\n",
       "      <th>0</th>\n",
       "      <td>how land-use changes affect local climates wit...</td>\n",
       "    </tr>\n",
       "    <tr>\n",
       "      <th>1</th>\n",
       "      <td>examination of historical linkages between Sou...</td>\n",
       "    </tr>\n",
       "    <tr>\n",
       "      <th>2</th>\n",
       "      <td>urban, social-cultural and tourism geographies</td>\n",
       "    </tr>\n",
       "    <tr>\n",
       "      <th>3</th>\n",
       "      <td>general theme of geographic information scienc...</td>\n",
       "    </tr>\n",
       "    <tr>\n",
       "      <th>4</th>\n",
       "      <td>Transnational migration and citizenship\\n'Dias...</td>\n",
       "    </tr>\n",
       "  </tbody>\n",
       "</table>\n",
       "</div>"
      ],
      "text/plain": [
       "                              Relevant Research Area\n",
       "0  how land-use changes affect local climates wit...\n",
       "1  examination of historical linkages between Sou...\n",
       "2     urban, social-cultural and tourism geographies\n",
       "3  general theme of geographic information scienc...\n",
       "4  Transnational migration and citizenship\\n'Dias..."
      ]
     },
     "execution_count": 2,
     "metadata": {},
     "output_type": "execute_result"
    }
   ],
   "source": [
    "geog = pd.read_csv('geography_research_areas.csv', engine = 'python')\n",
    "geog.head()"
   ]
  },
  {
   "cell_type": "code",
   "execution_count": 4,
   "metadata": {
    "collapsed": false,
    "deletable": true,
    "editable": true
   },
   "outputs": [
    {
     "name": "stdout",
     "output_type": "stream",
     "text": [
      "[nltk_data] Downloading package stopwords to /Users/uyen/nltk_data...\n",
      "[nltk_data]   Unzipping corpora/stopwords.zip.\n"
     ]
    }
   ],
   "source": [
    "# Preprocess text input\n",
    "# remove random spacing/next line char\n",
    "geog['Relevant Research Area'] = geog['Relevant Research Area'].apply(lambda x: ' '.join(x.split()))\n",
    "# convert all to lower case\n",
    "geog['Relevant Research Area'] = geog['Relevant Research Area'].str.lower()\n",
    "# remove all numbers and non-word, non-space characters\n",
    "geog['Relevant Research Area'] = geog['Relevant Research Area'].str.replace('[^a-zA-Z\\s]+', '')\n",
    "geog.head(10)\n",
    "# remove stop words\n",
    "import nltk\n",
    "nltk.download('stopwords')\n",
    "from nltk.corpus import stopwords\n",
    "\n",
    "stop = stopwords.words('english')\n",
    "research_areas = list(geog['Relevant Research Area'].apply(lambda x: [item for item in x.split() if item not in stop]))"
   ]
  },
  {
   "cell_type": "markdown",
   "metadata": {},
   "source": [
    "### LDA"
   ]
  },
  {
   "cell_type": "code",
   "execution_count": 7,
   "metadata": {
    "collapsed": false
   },
   "outputs": [
    {
     "data": {
      "text/plain": [
       "[(21,\n",
       "  '0.034*\"migration\" + 0.023*\"change\" + 0.020*\"economic\" + 0.019*\"north\" + 0.018*\"climate\" + 0.013*\"global\" + 0.013*\"labour\" + 0.013*\"geography\" + 0.013*\"asia\" + 0.013*\"africa\"'),\n",
       " (23,\n",
       "  '0.027*\"change\" + 0.019*\"migration\" + 0.019*\"citizenship\" + 0.019*\"health\" + 0.019*\"models\" + 0.018*\"climate\" + 0.018*\"global\" + 0.018*\"carbon\" + 0.010*\"international\" + 0.010*\"nature\"'),\n",
       " (28,\n",
       "  '0.019*\"surface\" + 0.019*\"coastal\" + 0.018*\"geography\" + 0.016*\"particular\" + 0.016*\"including\" + 0.016*\"environmental\" + 0.014*\"sensing\" + 0.014*\"reference\" + 0.013*\"estuarine\" + 0.013*\"models\"'),\n",
       " (5,\n",
       "  '0.035*\"development\" + 0.016*\"particular\" + 0.016*\"national\" + 0.016*\"focus\" + 0.016*\"resources\" + 0.013*\"also\" + 0.013*\"freshwater\" + 0.012*\"wealth\" + 0.011*\"victorian\" + 0.011*\"london\"'),\n",
       " (15,\n",
       "  '0.024*\"carbon\" + 0.016*\"understand\" + 0.016*\"anthropogenic\" + 0.016*\"innovation\" + 0.016*\"quantify\" + 0.016*\"forest\" + 0.011*\"research\" + 0.010*\"reconstruction\" + 0.008*\"change\" + 0.008*\"urban\"'),\n",
       " (1,\n",
       "  '0.029*\"urban\" + 0.029*\"law\" + 0.029*\"home\" + 0.019*\"climate\" + 0.017*\"variability\" + 0.015*\"governance\" + 0.015*\"land\" + 0.015*\"america\" + 0.015*\"housing\" + 0.015*\"gender\"'),\n",
       " (22,\n",
       "  '0.030*\"development\" + 0.023*\"interglacials\" + 0.015*\"especially\" + 0.015*\"international\" + 0.015*\"financial\" + 0.015*\"gpns\" + 0.012*\"including\" + 0.012*\"study\" + 0.009*\"variety\" + 0.008*\"geographies\"'),\n",
       " (17,\n",
       "  '0.025*\"social\" + 0.018*\"spatial\" + 0.017*\"hydrology\" + 0.011*\"information\" + 0.010*\"geographic\" + 0.008*\"urban\" + 0.008*\"policy\" + 0.008*\"cities\" + 0.008*\"work\" + 0.008*\"uk\"'),\n",
       " (20,\n",
       "  '0.018*\"modelling\" + 0.015*\"freshwater\" + 0.012*\"environmental\" + 0.012*\"modern\" + 0.012*\"river\" + 0.012*\"applications\" + 0.012*\"large\" + 0.012*\"management\" + 0.012*\"sediments\" + 0.012*\"study\"'),\n",
       " (3,\n",
       "  '0.031*\"marine\" + 0.028*\"area\" + 0.021*\"particular\" + 0.015*\"range\" + 0.013*\"geography\" + 0.010*\"spatial\" + 0.010*\"planning\" + 0.010*\"conservation\" + 0.010*\"biodiversity\" + 0.010*\"issues\"')]"
      ]
     },
     "execution_count": 7,
     "metadata": {},
     "output_type": "execute_result"
    }
   ],
   "source": [
    "from gensim.corpora import Dictionary\n",
    "from gensim.models import ldamodel\n",
    "from gensim.matutils import kullback_leibler, jaccard, hellinger, sparse2full\n",
    "from gensim import similarities\n",
    "\n",
    "dictionary = Dictionary(research_areas)\n",
    "corpus = [dictionary.doc2bow(area) for area in research_areas]\n",
    "\n",
    "np.random.seed(124) # setting random seed to get the same results each time.\n",
    "model_lda = ldamodel.LdaModel(corpus, id2word=dictionary, num_topics=30)\n",
    "model_lda.show_topics()"
   ]
  },
  {
   "cell_type": "code",
   "execution_count": 27,
   "metadata": {
    "collapsed": false
   },
   "outputs": [],
   "source": [
    "new_area = \"Research interests are grouped around the development and application of geographic information science and geographic information systems, latterly using Big Data analytics. Socioeconomic applications include: geo-temporal demographics; retail analysis; public service delivery (specifically health, education and policing); Internet GIS applications and e-social science; housing and retail market analysis; fractal analysis of cities; and social survey research practice. Contributions to the research literature have been funded by numerous research grants, including knowledge transfer/exchange funding.\"\n",
    "# preprocess and remove stop words\n",
    "new_area = re.sub('[^a-zA-Z\\s]+', '', new_area).lower()\n",
    "new_area = [item for item in new_area.split() if item not in stop]"
   ]
  },
  {
   "cell_type": "code",
   "execution_count": 28,
   "metadata": {
    "collapsed": false
   },
   "outputs": [
    {
     "data": {
      "text/plain": [
       "[(0, 0.032229105300430202),\n",
       " (4, 0.058405600578926346),\n",
       " (7, 0.50577681128204355),\n",
       " (17, 0.046879199348016279),\n",
       " (20, 0.094047590953170612),\n",
       " (22, 0.048517586133021033),\n",
       " (24, 0.050602716020406446),\n",
       " (26, 0.14565521152217983)]"
      ]
     },
     "execution_count": 28,
     "metadata": {},
     "output_type": "execute_result"
    }
   ],
   "source": [
    "new_area = dictionary.doc2bow(new_area)\n",
    "# convert to lda space\n",
    "new_area_lda = model_lda[new_area]\n",
    "new_area_lda"
   ]
  },
  {
   "cell_type": "code",
   "execution_count": 54,
   "metadata": {
    "collapsed": false
   },
   "outputs": [
    {
     "name": "stdout",
     "output_type": "stream",
     "text": [
      "Similar document indexes:\n",
      "3 0.0859579\n",
      "7 0.172446\n",
      "8 0.927395\n",
      "16 0.0927854\n",
      "18 0.088962\n",
      "20 0.267074\n",
      "25 0.0927854\n",
      "30 0.856836\n",
      "31 0.927395\n",
      "33 0.927395\n",
      "37 0.0294071\n",
      "38 0.0590954\n",
      "39 0.0927854\n",
      "40 0.0590954\n",
      "41 0.172446\n",
      "43 0.088962\n",
      "45 0.107093\n",
      "48 0.927395\n",
      "56 0.927395\n",
      "58 0.927395\n",
      "59 0.938064\n",
      "60 0.0859579\n",
      "61 0.0590954\n",
      "63 0.938064\n",
      "64 0.0927854\n",
      "65 0.0859579\n",
      "66 0.0207918\n",
      "67 0.267074\n",
      "69 0.0927854\n",
      "72 0.267074\n",
      "73 0.172446\n",
      "75 0.927395\n",
      "77 0.927395\n",
      "80 0.0101826\n",
      "82 0.107093\n",
      "83 0.107093\n",
      "86 0.0859579\n",
      "87 0.0590954\n",
      "90 0.927395\n",
      "91 0.0859579\n",
      "92 0.0590954\n",
      "93 0.267074\n",
      "94 0.107093\n",
      "95 0.107093\n",
      "97 0.0590954\n",
      "103 0.267074\n",
      "104 0.088962\n",
      "106 0.088962\n",
      "112 0.172446\n",
      "117 0.927395\n",
      "119 0.088962\n",
      "121 0.172446\n",
      "123 0.172446\n",
      "124 0.0859579\n",
      "127 0.0590954\n",
      "133 0.172446\n",
      "136 0.0859579\n",
      "137 0.0859579\n",
      "144 0.088962\n",
      "145 0.107093\n",
      "146 0.107093\n",
      "147 0.172446\n",
      "148 0.0590954\n"
     ]
    }
   ],
   "source": [
    "# compare with the other documents in the corpus\n",
    "index = similarities.MatrixSimilarity(model_lda[corpus])\n",
    "\n",
    "# print similarities (cosine similarity)\n",
    "sim = index[new_area_lda]\n",
    "print(\"Similar document indexes:\")\n",
    "for i, score in enumerate(sim):\n",
    "    if score > 0:\n",
    "        print(i, score)"
   ]
  },
  {
   "cell_type": "code",
   "execution_count": null,
   "metadata": {
    "collapsed": false,
    "deletable": true,
    "editable": true
   },
   "outputs": [],
   "source": [
    "from gensim.models import Word2Vec\n",
    "model_wv = Word2Vec(research_areas, size=100, window=5, min_count=5, workers=4)"
   ]
  },
  {
   "cell_type": "code",
   "execution_count": null,
   "metadata": {
    "collapsed": false,
    "deletable": true,
    "editable": true
   },
   "outputs": [],
   "source": [
    "economy = model_wv.wv['economy']\n",
    "political = model_wv.wv['political']"
   ]
  },
  {
   "cell_type": "code",
   "execution_count": null,
   "metadata": {
    "collapsed": false,
    "deletable": true,
    "editable": true
   },
   "outputs": [],
   "source": [
    "economy + political\n",
    "['abc'] = ___\n",
    "\n",
    "[economy]\n",
    "[geography]"
   ]
  }
 ],
 "metadata": {
  "kernelspec": {
   "display_name": "Python 3",
   "language": "python",
   "name": "python3"
  },
  "language_info": {
   "codemirror_mode": {
    "name": "ipython",
    "version": 3
   },
   "file_extension": ".py",
   "mimetype": "text/x-python",
   "name": "python",
   "nbconvert_exporter": "python",
   "pygments_lexer": "ipython3",
   "version": "3.6.0"
  }
 },
 "nbformat": 4,
 "nbformat_minor": 2
}
