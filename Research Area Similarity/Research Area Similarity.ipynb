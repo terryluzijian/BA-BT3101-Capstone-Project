{
 "cells": [
  {
   "cell_type": "code",
   "execution_count": 2,
   "metadata": {
    "collapsed": true
   },
   "outputs": [],
   "source": [
    "import pandas as pd\n",
    "import spacy\n",
    "import re\n",
    "import string"
   ]
  },
  {
   "cell_type": "code",
   "execution_count": 73,
   "metadata": {
    "collapsed": false
   },
   "outputs": [],
   "source": [
    "nus = u' the molecular mechanisms governing membrane trafficking enabled us to identify and characterize numerous proteins participating in various membrane trafficking events in mammalian cells'"
   ]
  },
  {
   "cell_type": "code",
   "execution_count": 3,
   "metadata": {
    "collapsed": false
   },
   "outputs": [
    {
     "data": {
      "text/html": [
       "<div>\n",
       "<style>\n",
       "    .dataframe thead tr:only-child th {\n",
       "        text-align: right;\n",
       "    }\n",
       "\n",
       "    .dataframe thead th {\n",
       "        text-align: left;\n",
       "    }\n",
       "\n",
       "    .dataframe tbody tr th {\n",
       "        vertical-align: top;\n",
       "    }\n",
       "</style>\n",
       "<table border=\"1\" class=\"dataframe\">\n",
       "  <thead>\n",
       "    <tr style=\"text-align: right;\">\n",
       "      <th></th>\n",
       "      <th>Topics</th>\n",
       "    </tr>\n",
       "  </thead>\n",
       "  <tbody>\n",
       "    <tr>\n",
       "      <th>0</th>\n",
       "      <td>Molecular mechanisms of STAT3 in regulation of...</td>\n",
       "    </tr>\n",
       "    <tr>\n",
       "      <th>1</th>\n",
       "      <td>Understanding the molecular mechanisms of cell...</td>\n",
       "    </tr>\n",
       "    <tr>\n",
       "      <th>2</th>\n",
       "      <td>Food nutrient interactions, Body weight contro...</td>\n",
       "    </tr>\n",
       "    <tr>\n",
       "      <th>3</th>\n",
       "      <td>the molecular mechanisms governing membrane t...</td>\n",
       "    </tr>\n",
       "    <tr>\n",
       "      <th>4</th>\n",
       "      <td>-</td>\n",
       "    </tr>\n",
       "  </tbody>\n",
       "</table>\n",
       "</div>"
      ],
      "text/plain": [
       "                                              Topics\n",
       "0  Molecular mechanisms of STAT3 in regulation of...\n",
       "1  Understanding the molecular mechanisms of cell...\n",
       "2  Food nutrient interactions, Body weight contro...\n",
       "3   the molecular mechanisms governing membrane t...\n",
       "4                                                  -"
      ]
     },
     "execution_count": 3,
     "metadata": {},
     "output_type": "execute_result"
    }
   ],
   "source": [
    "df = pd.read_excel(\"Biochemical.xlsx\")\n",
    "df.head()"
   ]
  },
  {
   "cell_type": "code",
   "execution_count": 74,
   "metadata": {
    "collapsed": false
   },
   "outputs": [],
   "source": [
    "df = df[df[\"Topics\"].apply(len)>1]"
   ]
  },
  {
   "cell_type": "code",
   "execution_count": 75,
   "metadata": {
    "collapsed": true
   },
   "outputs": [],
   "source": [
    "nlp = spacy.load(\"en_core_web_md\")"
   ]
  },
  {
   "cell_type": "code",
   "execution_count": null,
   "metadata": {
    "collapsed": false
   },
   "outputs": [],
   "source": []
  },
  {
   "cell_type": "code",
   "execution_count": 76,
   "metadata": {
    "collapsed": false
   },
   "outputs": [
    {
     "data": {
      "text/plain": [
       "0.6184253124081841"
      ]
     },
     "execution_count": 76,
     "metadata": {},
     "output_type": "execute_result"
    }
   ],
   "source": [
    "nlp(u\"RNA\").similarity(nlp(u\"DNA\"))"
   ]
  },
  {
   "cell_type": "code",
   "execution_count": 77,
   "metadata": {
    "collapsed": false
   },
   "outputs": [
    {
     "data": {
      "text/plain": [
       "0.42862373825159761"
      ]
     },
     "execution_count": 77,
     "metadata": {},
     "output_type": "execute_result"
    }
   ],
   "source": [
    "nlp(u\"RNA\").similarity(nlp(u\"transcription\"))"
   ]
  },
  {
   "cell_type": "code",
   "execution_count": 78,
   "metadata": {
    "collapsed": false
   },
   "outputs": [
    {
     "data": {
      "text/plain": [
       "0.21104511644997487"
      ]
     },
     "execution_count": 78,
     "metadata": {},
     "output_type": "execute_result"
    }
   ],
   "source": [
    "nlp(u\"RNA\").similarity(nlp(u\"translation\"))"
   ]
  },
  {
   "cell_type": "code",
   "execution_count": 79,
   "metadata": {
    "collapsed": false
   },
   "outputs": [
    {
     "data": {
      "text/plain": [
       "0.18572078438313347"
      ]
     },
     "execution_count": 79,
     "metadata": {},
     "output_type": "execute_result"
    }
   ],
   "source": [
    "nlp(u\"DNA\").similarity(nlp(u\"translation\"))"
   ]
  },
  {
   "cell_type": "code",
   "execution_count": 80,
   "metadata": {
    "collapsed": false
   },
   "outputs": [
    {
     "data": {
      "text/plain": [
       "0.37578079111341101"
      ]
     },
     "execution_count": 80,
     "metadata": {},
     "output_type": "execute_result"
    }
   ],
   "source": [
    "nlp(u\"DNA\").similarity(nlp(u\"transcription\"))"
   ]
  },
  {
   "cell_type": "code",
   "execution_count": 28,
   "metadata": {
    "collapsed": true
   },
   "outputs": [],
   "source": [
    "research_nlp = map(lambda x:nlp(x), research_all)"
   ]
  },
  {
   "cell_type": "code",
   "execution_count": 116,
   "metadata": {
    "collapsed": false
   },
   "outputs": [],
   "source": [
    "df[\"Topics_nlp\"] = df[\"Topics\"].apply(nlp)"
   ]
  },
  {
   "cell_type": "code",
   "execution_count": 208,
   "metadata": {
    "collapsed": false
   },
   "outputs": [],
   "source": [
    "def get_keywords(research):\n",
    "    ls = []\n",
    "    research_words = map(lambda x:x.pos_, research)\n",
    "    i = len(research)-1\n",
    "\n",
    "    while i >= 0:\n",
    "        if research_words[i] in [\"PROPN\", \"NOUN\"]:\n",
    "            j = i-1\n",
    "            while j >=0 and research_words[j] in [\"PROPN\", \"ADJ\"]:\n",
    "                j -= 1\n",
    "            ls.append(research[j+1:i+1])\n",
    "            i = j\n",
    "        i = i-1\n",
    "    return ls"
   ]
  },
  {
   "cell_type": "code",
   "execution_count": 209,
   "metadata": {
    "collapsed": false
   },
   "outputs": [
    {
     "data": {
      "text/plain": [
       "[mammalian cells,\n",
       " events,\n",
       " various membrane,\n",
       " numerous proteins,\n",
       " membrane,\n",
       " molecular mechanisms]"
      ]
     },
     "execution_count": 209,
     "metadata": {},
     "output_type": "execute_result"
    }
   ],
   "source": [
    "nus_keywords = get_keywords(nlp(nus))\n",
    "nus_keywords"
   ]
  },
  {
   "cell_type": "code",
   "execution_count": 1,
   "metadata": {
    "collapsed": true
   },
   "outputs": [],
   "source": [
    "def get_similarity(keywords):\n",
    "    score = []\n",
    "    if len(keywords_all) > 0:\n",
    "        for n in nus_keywords:\n",
    "            s = []\n",
    "            for i in keywords:\n",
    "                if len(i) >0:\n",
    "                    s.append(n.similarity(i))\n",
    "            score.append(max(s))\n",
    "    score = filter(lambda x:x != 0, score)\n",
    "    if len(score)>0:\n",
    "        return sum(score)/len(score)\n",
    "    return 0"
   ]
  },
  {
   "cell_type": "code",
   "execution_count": 210,
   "metadata": {
    "collapsed": false,
    "scrolled": true
   },
   "outputs": [],
   "source": [
    "df[\"keywords\"] = df[\"Topics_nlp\"].apply(get_keywords)"
   ]
  },
  {
   "cell_type": "code",
   "execution_count": 213,
   "metadata": {
    "collapsed": false,
    "scrolled": true
   },
   "outputs": [],
   "source": [
    "keywords_all = df[\"keywords\"].tolist()\n",
    "scores_all = map(lambda x:get_similarity(x), keywords_all)"
   ]
  },
  {
   "cell_type": "code",
   "execution_count": 214,
   "metadata": {
    "collapsed": false
   },
   "outputs": [],
   "source": [
    "df[\"Score\"] = df[\"keywords\"].apply(get_similarity)"
   ]
  },
  {
   "cell_type": "code",
   "execution_count": 215,
   "metadata": {
    "collapsed": false
   },
   "outputs": [
    {
     "data": {
      "text/html": [
       "<div>\n",
       "<style>\n",
       "    .dataframe thead tr:only-child th {\n",
       "        text-align: right;\n",
       "    }\n",
       "\n",
       "    .dataframe thead th {\n",
       "        text-align: left;\n",
       "    }\n",
       "\n",
       "    .dataframe tbody tr th {\n",
       "        vertical-align: top;\n",
       "    }\n",
       "</style>\n",
       "<table border=\"1\" class=\"dataframe\">\n",
       "  <thead>\n",
       "    <tr style=\"text-align: right;\">\n",
       "      <th></th>\n",
       "      <th>Topics</th>\n",
       "      <th>keywords</th>\n",
       "      <th>Topics_nlp</th>\n",
       "      <th>Score</th>\n",
       "    </tr>\n",
       "  </thead>\n",
       "  <tbody>\n",
       "    <tr>\n",
       "      <th>0</th>\n",
       "      <td>Molecular mechanisms of STAT3 in regulation of...</td>\n",
       "      <td>[(related, diseases), (cognition), (formation)...</td>\n",
       "      <td>(Molecular, mechanisms, of, STAT3, in, regulat...</td>\n",
       "      <td>0.707979</td>\n",
       "    </tr>\n",
       "    <tr>\n",
       "      <th>1</th>\n",
       "      <td>Understanding the molecular mechanisms of cell...</td>\n",
       "      <td>[(model), (Caenorhabditis), (disease), (age), ...</td>\n",
       "      <td>(Understanding, the, molecular, mechanisms, of...</td>\n",
       "      <td>0.634615</td>\n",
       "    </tr>\n",
       "    <tr>\n",
       "      <th>2</th>\n",
       "      <td>Food nutrient interactions, Body weight contro...</td>\n",
       "      <td>[(International, nutrition), (cardiovascular, ...</td>\n",
       "      <td>(Food, nutrient, interactions, ,, Body, weight...</td>\n",
       "      <td>0.512717</td>\n",
       "    </tr>\n",
       "    <tr>\n",
       "      <th>3</th>\n",
       "      <td>the molecular mechanisms governing membrane t...</td>\n",
       "      <td>[(mammalian, cells), (events), (various, membr...</td>\n",
       "      <td>( , the, molecular, mechanisms, governing, mem...</td>\n",
       "      <td>1.000000</td>\n",
       "    </tr>\n",
       "    <tr>\n",
       "      <th>5</th>\n",
       "      <td>the genetics of diabetes mellitus and other me...</td>\n",
       "      <td>[(cell), (insulin), (developmental, biology), ...</td>\n",
       "      <td>(the, genetics, of, diabetes, mellitus, and, o...</td>\n",
       "      <td>0.518544</td>\n",
       "    </tr>\n",
       "    <tr>\n",
       "      <th>6</th>\n",
       "      <td>The coevolution of bacterial pathogens and the...</td>\n",
       "      <td>[(molecular, ecology), (hosts), (bacterial, pa...</td>\n",
       "      <td>(The, coevolution, of, bacterial, pathogens, a...</td>\n",
       "      <td>0.554766</td>\n",
       "    </tr>\n",
       "    <tr>\n",
       "      <th>7</th>\n",
       "      <td>Biophysics of excitation: Structure Function i...</td>\n",
       "      <td>[(Voltage, Dependent, Membrane, Proteins), (Fu...</td>\n",
       "      <td>(Biophysics, of, excitation, :, Structure, Fun...</td>\n",
       "      <td>0.674997</td>\n",
       "    </tr>\n",
       "    <tr>\n",
       "      <th>8</th>\n",
       "      <td>Meiotic recombination, recombinational DNA rep...</td>\n",
       "      <td>[(mammalian, cells), (yeast), (recombinational...</td>\n",
       "      <td>(Meiotic, recombination, ,, recombinational, D...</td>\n",
       "      <td>0.608798</td>\n",
       "    </tr>\n",
       "    <tr>\n",
       "      <th>9</th>\n",
       "      <td>Regulatory mechanisms controlling bacterial ce...</td>\n",
       "      <td>[(biology), (physiology), (Regulatory, mechani...</td>\n",
       "      <td>(Regulatory, mechanisms, controlling, bacteria...</td>\n",
       "      <td>0.499984</td>\n",
       "    </tr>\n",
       "    <tr>\n",
       "      <th>10</th>\n",
       "      <td>Biology and therapy of hemoglobinopathies, dev...</td>\n",
       "      <td>[(research), (neural, crest), (blood), (develo...</td>\n",
       "      <td>(Biology, and, therapy, of, hemoglobinopathies...</td>\n",
       "      <td>0.466903</td>\n",
       "    </tr>\n",
       "    <tr>\n",
       "      <th>11</th>\n",
       "      <td>Studies sphingolipid signalling pathways and p...</td>\n",
       "      <td>[(Batten, genes), (mutations), (diseases), (ve...</td>\n",
       "      <td>(Studies, sphingolipid, signalling, pathways, ...</td>\n",
       "      <td>0.516739</td>\n",
       "    </tr>\n",
       "    <tr>\n",
       "      <th>12</th>\n",
       "      <td>Human genetic variation and the evolution of c...</td>\n",
       "      <td>[(common, diseases), (evolution), (Human, gene...</td>\n",
       "      <td>(Human, genetic, variation, and, the, evolutio...</td>\n",
       "      <td>0.497516</td>\n",
       "    </tr>\n",
       "    <tr>\n",
       "      <th>13</th>\n",
       "      <td>Cell cycle, tumor suppressor genes, and develo...</td>\n",
       "      <td>[(development), (genes), (tumor), (cycle)]</td>\n",
       "      <td>(Cell, cycle, ,, tumor, suppressor, genes, ,, ...</td>\n",
       "      <td>0.520254</td>\n",
       "    </tr>\n",
       "    <tr>\n",
       "      <th>14</th>\n",
       "      <td>Evolutionary and ecological functional genomic...</td>\n",
       "      <td>[(focus), (Drosophila), (other, molecular, cha...</td>\n",
       "      <td>(Evolutionary, and, ecological, functional, ge...</td>\n",
       "      <td>0.595044</td>\n",
       "    </tr>\n",
       "    <tr>\n",
       "      <th>15</th>\n",
       "      <td>Regulation of epithelial polarity and prolifer...</td>\n",
       "      <td>[(development), (proliferation), (epithelial, ...</td>\n",
       "      <td>(Regulation, of, epithelial, polarity, and, pr...</td>\n",
       "      <td>0.543442</td>\n",
       "    </tr>\n",
       "    <tr>\n",
       "      <th>16</th>\n",
       "      <td>Developmental genetics of cell fate specificat...</td>\n",
       "      <td>[(Drosophila), (maintenance), (fate, specifica...</td>\n",
       "      <td>(Developmental, genetics, of, cell, fate, spec...</td>\n",
       "      <td>0.402680</td>\n",
       "    </tr>\n",
       "    <tr>\n",
       "      <th>17</th>\n",
       "      <td>Cell Adhesion and Migration, Cellular Mechanics</td>\n",
       "      <td>[(Cellular, Mechanics), (Migration), (Cell, Ad...</td>\n",
       "      <td>(Cell, Adhesion, and, Migration, ,, Cellular, ...</td>\n",
       "      <td>0.572544</td>\n",
       "    </tr>\n",
       "    <tr>\n",
       "      <th>18</th>\n",
       "      <td>Understanding gene regulatory processes and el...</td>\n",
       "      <td>[(disease), (specific, traits), (genetic, arch...</td>\n",
       "      <td>(Understanding, gene, regulatory, processes, a...</td>\n",
       "      <td>0.485224</td>\n",
       "    </tr>\n",
       "    <tr>\n",
       "      <th>19</th>\n",
       "      <td>I am interested in microbial ecology, especial...</td>\n",
       "      <td>[(new, environments), (microorganisms), (commu...</td>\n",
       "      <td>(I, am, interested, in, microbial, ecology, ,,...</td>\n",
       "      <td>0.500255</td>\n",
       "    </tr>\n",
       "    <tr>\n",
       "      <th>20</th>\n",
       "      <td>Our group is generally focused upon identifica...</td>\n",
       "      <td>[(psychiatric, genetic, disease), (particular,...</td>\n",
       "      <td>(Our, group, is, generally, focused, upon, ide...</td>\n",
       "      <td>0.519119</td>\n",
       "    </tr>\n",
       "    <tr>\n",
       "      <th>21</th>\n",
       "      <td>Biogenesis of secretory pathway organelles, an...</td>\n",
       "      <td>[(fluorescent, proteins), (evolution), (organe...</td>\n",
       "      <td>(Biogenesis, of, secretory, pathway, organelle...</td>\n",
       "      <td>0.596348</td>\n",
       "    </tr>\n",
       "    <tr>\n",
       "      <th>22</th>\n",
       "      <td>The molecular mechanism of cytokinesis in anim...</td>\n",
       "      <td>[(cells), (cytokinesis), (molecular, mechanism)]</td>\n",
       "      <td>(The, molecular, mechanism, of, cytokinesis, i...</td>\n",
       "      <td>0.643863</td>\n",
       "    </tr>\n",
       "    <tr>\n",
       "      <th>23</th>\n",
       "      <td>Arabidopsis defense mechanisms against bacteri...</td>\n",
       "      <td>[(mechanisms), (Pseudomonas, syringae), (bacte...</td>\n",
       "      <td>(Arabidopsis, defense, mechanisms, against, ba...</td>\n",
       "      <td>0.537646</td>\n",
       "    </tr>\n",
       "    <tr>\n",
       "      <th>24</th>\n",
       "      <td>Steroid hormone regulation of gene networks in...</td>\n",
       "      <td>[(nuclear, receptors), (function), (Structure)...</td>\n",
       "      <td>(Steroid, hormone, regulation, of, gene, netwo...</td>\n",
       "      <td>0.554618</td>\n",
       "    </tr>\n",
       "    <tr>\n",
       "      <th>25</th>\n",
       "      <td>Biomedical informatics, data intensive computi...</td>\n",
       "      <td>[(related, areas), (computing), (science), (bi...</td>\n",
       "      <td>(Biomedical, informatics, ,, data, intensive, ...</td>\n",
       "      <td>0.420415</td>\n",
       "    </tr>\n",
       "    <tr>\n",
       "      <th>26</th>\n",
       "      <td>Cellular and molecular mechanisms that control...</td>\n",
       "      <td>[(mammalian, forebrain), (differentiation), (c...</td>\n",
       "      <td>(Cellular, and, molecular, mechanisms, that, c...</td>\n",
       "      <td>0.639662</td>\n",
       "    </tr>\n",
       "    <tr>\n",
       "      <th>27</th>\n",
       "      <td>Cellular differentiation in nitrogen-fixing cy...</td>\n",
       "      <td>[(parasites), (humans), (plants), (acetyl, CoA...</td>\n",
       "      <td>(Cellular, differentiation, in, nitrogen, -, f...</td>\n",
       "      <td>0.540168</td>\n",
       "    </tr>\n",
       "    <tr>\n",
       "      <th>28</th>\n",
       "      <td>Regulation of gene expression by dynamic and r...</td>\n",
       "      <td>[(human, diseases), (various, biological, proc...</td>\n",
       "      <td>(Regulation, of, gene, expression, by, dynamic...</td>\n",
       "      <td>0.590785</td>\n",
       "    </tr>\n",
       "    <tr>\n",
       "      <th>29</th>\n",
       "      <td>Pattern formation and early development in the...</td>\n",
       "      <td>[(zebrafish), (early, development), (Pattern, ...</td>\n",
       "      <td>(Pattern, formation, and, early, development, ...</td>\n",
       "      <td>0.477997</td>\n",
       "    </tr>\n",
       "    <tr>\n",
       "      <th>30</th>\n",
       "      <td>Structure of sickle-cell hemoglobin fibers and...</td>\n",
       "      <td>[(reconstruction), (microscopy), (cytoskeleton...</td>\n",
       "      <td>(Structure, of, sickle, -, cell, hemoglobin, f...</td>\n",
       "      <td>0.520179</td>\n",
       "    </tr>\n",
       "    <tr>\n",
       "      <th>...</th>\n",
       "      <td>...</td>\n",
       "      <td>...</td>\n",
       "      <td>...</td>\n",
       "      <td>...</td>\n",
       "    </tr>\n",
       "    <tr>\n",
       "      <th>127</th>\n",
       "      <td>The use of bacteria their enzymes and phages t...</td>\n",
       "      <td>[(bioprocessing), (cell), (biocatalysis), (syn...</td>\n",
       "      <td>(The, use, of, bacteria, their, enzymes, and, ...</td>\n",
       "      <td>0.587191</td>\n",
       "    </tr>\n",
       "    <tr>\n",
       "      <th>128</th>\n",
       "      <td>Biofuels, Enzymology, Genetics, Membrane Biolo...</td>\n",
       "      <td>[(Gene, Expression), (Regulation), (Microbial,...</td>\n",
       "      <td>(Biofuels, ,, Enzymology, ,, Genetics, ,, Memb...</td>\n",
       "      <td>0.631644</td>\n",
       "    </tr>\n",
       "    <tr>\n",
       "      <th>129</th>\n",
       "      <td>Biofuels, Bioinformatics, Enzymology, Genomics...</td>\n",
       "      <td>[(Protein, Structure), (Protein, Dynamics), (M...</td>\n",
       "      <td>(Biofuels, ,, Bioinformatics, ,, Enzymology, ,...</td>\n",
       "      <td>0.624075</td>\n",
       "    </tr>\n",
       "    <tr>\n",
       "      <th>130</th>\n",
       "      <td>Drug Discovery, Enzymology, Host-Pathogen Inte...</td>\n",
       "      <td>[(Toxins), (RNA, Biology), (Nucleic, Acid, Int...</td>\n",
       "      <td>(Drug, Discovery, ,, Enzymology, ,, Host, -, P...</td>\n",
       "      <td>0.612238</td>\n",
       "    </tr>\n",
       "    <tr>\n",
       "      <th>131</th>\n",
       "      <td>Molecular Immunology, Protein Dynamics, Protei...</td>\n",
       "      <td>[(Toxins), (Receptor, Biochemistry), (Protein,...</td>\n",
       "      <td>(Molecular, Immunology, ,, Protein, Dynamics, ...</td>\n",
       "      <td>0.614563</td>\n",
       "    </tr>\n",
       "    <tr>\n",
       "      <th>132</th>\n",
       "      <td>Enzymology, Molecular Evolution, Protein-Nucle...</td>\n",
       "      <td>[(RNA, Biology), (Nucleic, Acid, Interactions)...</td>\n",
       "      <td>(Enzymology, ,, Molecular, Evolution, ,, Prote...</td>\n",
       "      <td>0.598908</td>\n",
       "    </tr>\n",
       "    <tr>\n",
       "      <th>133</th>\n",
       "      <td>Enzymology, Membrane Biology, Protein Structure</td>\n",
       "      <td>[(Protein, Structure), (Membrane, Biology), (E...</td>\n",
       "      <td>(Enzymology, ,, Membrane, Biology, ,, Protein,...</td>\n",
       "      <td>0.658717</td>\n",
       "    </tr>\n",
       "    <tr>\n",
       "      <th>134</th>\n",
       "      <td>Drug Discovery, Enzymology, Host-Pathogen Inte...</td>\n",
       "      <td>[(Protein, Structure), (Microbial, Physiology)...</td>\n",
       "      <td>(Drug, Discovery, ,, Enzymology, ,, Host, -, P...</td>\n",
       "      <td>0.698289</td>\n",
       "    </tr>\n",
       "    <tr>\n",
       "      <th>135</th>\n",
       "      <td>Drug Discovery, Enzymology, Genomics, Protein ...</td>\n",
       "      <td>[(RNA, Biology), (Gene, Expression), (Regulati...</td>\n",
       "      <td>(Drug, Discovery, ,, Enzymology, ,, Genomics, ...</td>\n",
       "      <td>0.610704</td>\n",
       "    </tr>\n",
       "    <tr>\n",
       "      <th>136</th>\n",
       "      <td>Drug Discovery, Endocrinology, Protein-Nucleic...</td>\n",
       "      <td>[(Signal, Transduction), (Gene, Expression), (...</td>\n",
       "      <td>(Drug, Discovery, ,, Endocrinology, ,, Protein...</td>\n",
       "      <td>0.593029</td>\n",
       "    </tr>\n",
       "    <tr>\n",
       "      <th>137</th>\n",
       "      <td>Drug Discovery, Endocrinology, Enzymology, Mem...</td>\n",
       "      <td>[(Signal, Transduction), (Receptor, Biochemist...</td>\n",
       "      <td>(Drug, Discovery, ,, Endocrinology, ,, Enzymol...</td>\n",
       "      <td>0.675438</td>\n",
       "    </tr>\n",
       "    <tr>\n",
       "      <th>138</th>\n",
       "      <td>Computational Biology, Membrane Biology, Prote...</td>\n",
       "      <td>[(Protein, Structure), (Protein, Dynamics), (M...</td>\n",
       "      <td>(Computational, Biology, ,, Membrane, Biology,...</td>\n",
       "      <td>0.664645</td>\n",
       "    </tr>\n",
       "    <tr>\n",
       "      <th>139</th>\n",
       "      <td>The mouse CEACAM1 proteins</td>\n",
       "      <td>[(CEACAM1, proteins)]</td>\n",
       "      <td>(The, mouse, CEACAM1, proteins)</td>\n",
       "      <td>0.599882</td>\n",
       "    </tr>\n",
       "    <tr>\n",
       "      <th>140</th>\n",
       "      <td>Development and cancer of the urogenital syste...</td>\n",
       "      <td>[(Urogenital, cancer), (distal, ureter, matura...</td>\n",
       "      <td>(Development, and, cancer, of, the, urogenital...</td>\n",
       "      <td>0.594685</td>\n",
       "    </tr>\n",
       "    <tr>\n",
       "      <th>141</th>\n",
       "      <td>mRNA metabolism during the cell cycle and cell...</td>\n",
       "      <td>[(differentiation), (cycle), (mRNA, metabolism)]</td>\n",
       "      <td>(mRNA, metabolism, during, the, cell, cycle, a...</td>\n",
       "      <td>0.474891</td>\n",
       "    </tr>\n",
       "    <tr>\n",
       "      <th>142</th>\n",
       "      <td>The application of Nuclear Magnetic Resonance ...</td>\n",
       "      <td>[(structures), (protein), (study), (NMR), (Nuc...</td>\n",
       "      <td>(The, application, of, Nuclear, Magnetic, Reso...</td>\n",
       "      <td>0.555794</td>\n",
       "    </tr>\n",
       "    <tr>\n",
       "      <th>143</th>\n",
       "      <td>Orphan nuclear receptors, Vitamin A signaling,...</td>\n",
       "      <td>[(cancer), (receptors), (role), (Vitamin, A), ...</td>\n",
       "      <td>(Orphan, nuclear, receptors, ,, Vitamin, A, si...</td>\n",
       "      <td>0.534971</td>\n",
       "    </tr>\n",
       "    <tr>\n",
       "      <th>144</th>\n",
       "      <td>The use of genetically diverse mouse inbred st...</td>\n",
       "      <td>[(ENU, mutants), (stocks), (recombinant, conge...</td>\n",
       "      <td>(The, use, of, genetically, diverse, mouse, in...</td>\n",
       "      <td>0.465550</td>\n",
       "    </tr>\n",
       "    <tr>\n",
       "      <th>145</th>\n",
       "      <td>Understand how proteins determine the fate of ...</td>\n",
       "      <td>[(forks), (DNA, repair), (forks), (stabilizati...</td>\n",
       "      <td>(Understand, how, proteins, determine, the, fa...</td>\n",
       "      <td>0.631961</td>\n",
       "    </tr>\n",
       "    <tr>\n",
       "      <th>146</th>\n",
       "      <td>Biology and Medicine</td>\n",
       "      <td>[(Medicine), (Biology)]</td>\n",
       "      <td>(Biology, and, Medicine)</td>\n",
       "      <td>0.379843</td>\n",
       "    </tr>\n",
       "    <tr>\n",
       "      <th>147</th>\n",
       "      <td>The role of a class of receptor tyrosine kinas...</td>\n",
       "      <td>[(progression), (ErbB-2), (pathways), (members...</td>\n",
       "      <td>(The, role, of, a, class, of, receptor, tyrosi...</td>\n",
       "      <td>0.540711</td>\n",
       "    </tr>\n",
       "    <tr>\n",
       "      <th>148</th>\n",
       "      <td>Roles of CUX1 proteins in DNA damage responses...</td>\n",
       "      <td>[(chemotherapy), (cells), (resistance), (respo...</td>\n",
       "      <td>(Roles, of, CUX1, proteins, in, DNA, damage, r...</td>\n",
       "      <td>0.667331</td>\n",
       "    </tr>\n",
       "    <tr>\n",
       "      <th>149</th>\n",
       "      <td>Mechanisms of activation and cell transformati...</td>\n",
       "      <td>[(Breast, Cancer), (Invasion), (Epithelial, Ce...</td>\n",
       "      <td>(Mechanisms, of, activation, and, cell, transf...</td>\n",
       "      <td>0.622002</td>\n",
       "    </tr>\n",
       "    <tr>\n",
       "      <th>150</th>\n",
       "      <td>Functional characterization of the FLCN-AMPK p...</td>\n",
       "      <td>[(cancer), (PTPN23), (PTP), (HD), (ESCRT), (Ro...</td>\n",
       "      <td>(Functional, characterization, of, the, FLCN, ...</td>\n",
       "      <td>0.528037</td>\n",
       "    </tr>\n",
       "    <tr>\n",
       "      <th>151</th>\n",
       "      <td>The first is to dissect and further elucidate ...</td>\n",
       "      <td>[(process), (expression), (changes), (attracti...</td>\n",
       "      <td>(The, first, is, to, dissect, and, further, el...</td>\n",
       "      <td>0.577002</td>\n",
       "    </tr>\n",
       "    <tr>\n",
       "      <th>152</th>\n",
       "      <td>Bcl-2 Family Proteins and Cancer, Laboratory f...</td>\n",
       "      <td>[(Therapeutic, Development), (Laboratory), (Ca...</td>\n",
       "      <td>(Bcl-2, Family, Proteins, and, Cancer, ,, Labo...</td>\n",
       "      <td>0.576907</td>\n",
       "    </tr>\n",
       "    <tr>\n",
       "      <th>153</th>\n",
       "      <td>Understanding the organization and function of...</td>\n",
       "      <td>[(their, correct, subcellular, destinations), ...</td>\n",
       "      <td>(Understanding, the, organization, and, functi...</td>\n",
       "      <td>0.681081</td>\n",
       "    </tr>\n",
       "    <tr>\n",
       "      <th>154</th>\n",
       "      <td>Identification and characterization of the var...</td>\n",
       "      <td>[(translational, control), (physiological, con...</td>\n",
       "      <td>(Identification, and, characterization, of, th...</td>\n",
       "      <td>0.508074</td>\n",
       "    </tr>\n",
       "    <tr>\n",
       "      <th>155</th>\n",
       "      <td>Cell signaling pathways and their role in infe...</td>\n",
       "      <td>[(endoplasmic, reticulum), (systems), (infecti...</td>\n",
       "      <td>(Cell, signaling, pathways, and, their, role, ...</td>\n",
       "      <td>0.554819</td>\n",
       "    </tr>\n",
       "    <tr>\n",
       "      <th>156</th>\n",
       "      <td>Three recently cloned enzymes and their relati...</td>\n",
       "      <td>[(cancer), (development), (their, relationship...</td>\n",
       "      <td>(Three, recently, cloned, enzymes, and, their,...</td>\n",
       "      <td>0.520352</td>\n",
       "    </tr>\n",
       "  </tbody>\n",
       "</table>\n",
       "<p>145 rows × 4 columns</p>\n",
       "</div>"
      ],
      "text/plain": [
       "                                                Topics  \\\n",
       "0    Molecular mechanisms of STAT3 in regulation of...   \n",
       "1    Understanding the molecular mechanisms of cell...   \n",
       "2    Food nutrient interactions, Body weight contro...   \n",
       "3     the molecular mechanisms governing membrane t...   \n",
       "5    the genetics of diabetes mellitus and other me...   \n",
       "6    The coevolution of bacterial pathogens and the...   \n",
       "7    Biophysics of excitation: Structure Function i...   \n",
       "8    Meiotic recombination, recombinational DNA rep...   \n",
       "9    Regulatory mechanisms controlling bacterial ce...   \n",
       "10   Biology and therapy of hemoglobinopathies, dev...   \n",
       "11   Studies sphingolipid signalling pathways and p...   \n",
       "12   Human genetic variation and the evolution of c...   \n",
       "13   Cell cycle, tumor suppressor genes, and develo...   \n",
       "14   Evolutionary and ecological functional genomic...   \n",
       "15   Regulation of epithelial polarity and prolifer...   \n",
       "16   Developmental genetics of cell fate specificat...   \n",
       "17     Cell Adhesion and Migration, Cellular Mechanics   \n",
       "18   Understanding gene regulatory processes and el...   \n",
       "19   I am interested in microbial ecology, especial...   \n",
       "20   Our group is generally focused upon identifica...   \n",
       "21   Biogenesis of secretory pathway organelles, an...   \n",
       "22   The molecular mechanism of cytokinesis in anim...   \n",
       "23   Arabidopsis defense mechanisms against bacteri...   \n",
       "24   Steroid hormone regulation of gene networks in...   \n",
       "25   Biomedical informatics, data intensive computi...   \n",
       "26   Cellular and molecular mechanisms that control...   \n",
       "27   Cellular differentiation in nitrogen-fixing cy...   \n",
       "28   Regulation of gene expression by dynamic and r...   \n",
       "29   Pattern formation and early development in the...   \n",
       "30   Structure of sickle-cell hemoglobin fibers and...   \n",
       "..                                                 ...   \n",
       "127  The use of bacteria their enzymes and phages t...   \n",
       "128  Biofuels, Enzymology, Genetics, Membrane Biolo...   \n",
       "129  Biofuels, Bioinformatics, Enzymology, Genomics...   \n",
       "130  Drug Discovery, Enzymology, Host-Pathogen Inte...   \n",
       "131  Molecular Immunology, Protein Dynamics, Protei...   \n",
       "132  Enzymology, Molecular Evolution, Protein-Nucle...   \n",
       "133    Enzymology, Membrane Biology, Protein Structure   \n",
       "134  Drug Discovery, Enzymology, Host-Pathogen Inte...   \n",
       "135  Drug Discovery, Enzymology, Genomics, Protein ...   \n",
       "136  Drug Discovery, Endocrinology, Protein-Nucleic...   \n",
       "137  Drug Discovery, Endocrinology, Enzymology, Mem...   \n",
       "138  Computational Biology, Membrane Biology, Prote...   \n",
       "139                         The mouse CEACAM1 proteins   \n",
       "140  Development and cancer of the urogenital syste...   \n",
       "141  mRNA metabolism during the cell cycle and cell...   \n",
       "142  The application of Nuclear Magnetic Resonance ...   \n",
       "143  Orphan nuclear receptors, Vitamin A signaling,...   \n",
       "144  The use of genetically diverse mouse inbred st...   \n",
       "145  Understand how proteins determine the fate of ...   \n",
       "146                               Biology and Medicine   \n",
       "147  The role of a class of receptor tyrosine kinas...   \n",
       "148  Roles of CUX1 proteins in DNA damage responses...   \n",
       "149  Mechanisms of activation and cell transformati...   \n",
       "150  Functional characterization of the FLCN-AMPK p...   \n",
       "151  The first is to dissect and further elucidate ...   \n",
       "152  Bcl-2 Family Proteins and Cancer, Laboratory f...   \n",
       "153  Understanding the organization and function of...   \n",
       "154  Identification and characterization of the var...   \n",
       "155  Cell signaling pathways and their role in infe...   \n",
       "156  Three recently cloned enzymes and their relati...   \n",
       "\n",
       "                                              keywords  \\\n",
       "0    [(related, diseases), (cognition), (formation)...   \n",
       "1    [(model), (Caenorhabditis), (disease), (age), ...   \n",
       "2    [(International, nutrition), (cardiovascular, ...   \n",
       "3    [(mammalian, cells), (events), (various, membr...   \n",
       "5    [(cell), (insulin), (developmental, biology), ...   \n",
       "6    [(molecular, ecology), (hosts), (bacterial, pa...   \n",
       "7    [(Voltage, Dependent, Membrane, Proteins), (Fu...   \n",
       "8    [(mammalian, cells), (yeast), (recombinational...   \n",
       "9    [(biology), (physiology), (Regulatory, mechani...   \n",
       "10   [(research), (neural, crest), (blood), (develo...   \n",
       "11   [(Batten, genes), (mutations), (diseases), (ve...   \n",
       "12   [(common, diseases), (evolution), (Human, gene...   \n",
       "13          [(development), (genes), (tumor), (cycle)]   \n",
       "14   [(focus), (Drosophila), (other, molecular, cha...   \n",
       "15   [(development), (proliferation), (epithelial, ...   \n",
       "16   [(Drosophila), (maintenance), (fate, specifica...   \n",
       "17   [(Cellular, Mechanics), (Migration), (Cell, Ad...   \n",
       "18   [(disease), (specific, traits), (genetic, arch...   \n",
       "19   [(new, environments), (microorganisms), (commu...   \n",
       "20   [(psychiatric, genetic, disease), (particular,...   \n",
       "21   [(fluorescent, proteins), (evolution), (organe...   \n",
       "22    [(cells), (cytokinesis), (molecular, mechanism)]   \n",
       "23   [(mechanisms), (Pseudomonas, syringae), (bacte...   \n",
       "24   [(nuclear, receptors), (function), (Structure)...   \n",
       "25   [(related, areas), (computing), (science), (bi...   \n",
       "26   [(mammalian, forebrain), (differentiation), (c...   \n",
       "27   [(parasites), (humans), (plants), (acetyl, CoA...   \n",
       "28   [(human, diseases), (various, biological, proc...   \n",
       "29   [(zebrafish), (early, development), (Pattern, ...   \n",
       "30   [(reconstruction), (microscopy), (cytoskeleton...   \n",
       "..                                                 ...   \n",
       "127  [(bioprocessing), (cell), (biocatalysis), (syn...   \n",
       "128  [(Gene, Expression), (Regulation), (Microbial,...   \n",
       "129  [(Protein, Structure), (Protein, Dynamics), (M...   \n",
       "130  [(Toxins), (RNA, Biology), (Nucleic, Acid, Int...   \n",
       "131  [(Toxins), (Receptor, Biochemistry), (Protein,...   \n",
       "132  [(RNA, Biology), (Nucleic, Acid, Interactions)...   \n",
       "133  [(Protein, Structure), (Membrane, Biology), (E...   \n",
       "134  [(Protein, Structure), (Microbial, Physiology)...   \n",
       "135  [(RNA, Biology), (Gene, Expression), (Regulati...   \n",
       "136  [(Signal, Transduction), (Gene, Expression), (...   \n",
       "137  [(Signal, Transduction), (Receptor, Biochemist...   \n",
       "138  [(Protein, Structure), (Protein, Dynamics), (M...   \n",
       "139                              [(CEACAM1, proteins)]   \n",
       "140  [(Urogenital, cancer), (distal, ureter, matura...   \n",
       "141   [(differentiation), (cycle), (mRNA, metabolism)]   \n",
       "142  [(structures), (protein), (study), (NMR), (Nuc...   \n",
       "143  [(cancer), (receptors), (role), (Vitamin, A), ...   \n",
       "144  [(ENU, mutants), (stocks), (recombinant, conge...   \n",
       "145  [(forks), (DNA, repair), (forks), (stabilizati...   \n",
       "146                            [(Medicine), (Biology)]   \n",
       "147  [(progression), (ErbB-2), (pathways), (members...   \n",
       "148  [(chemotherapy), (cells), (resistance), (respo...   \n",
       "149  [(Breast, Cancer), (Invasion), (Epithelial, Ce...   \n",
       "150  [(cancer), (PTPN23), (PTP), (HD), (ESCRT), (Ro...   \n",
       "151  [(process), (expression), (changes), (attracti...   \n",
       "152  [(Therapeutic, Development), (Laboratory), (Ca...   \n",
       "153  [(their, correct, subcellular, destinations), ...   \n",
       "154  [(translational, control), (physiological, con...   \n",
       "155  [(endoplasmic, reticulum), (systems), (infecti...   \n",
       "156  [(cancer), (development), (their, relationship...   \n",
       "\n",
       "                                            Topics_nlp     Score  \n",
       "0    (Molecular, mechanisms, of, STAT3, in, regulat...  0.707979  \n",
       "1    (Understanding, the, molecular, mechanisms, of...  0.634615  \n",
       "2    (Food, nutrient, interactions, ,, Body, weight...  0.512717  \n",
       "3    ( , the, molecular, mechanisms, governing, mem...  1.000000  \n",
       "5    (the, genetics, of, diabetes, mellitus, and, o...  0.518544  \n",
       "6    (The, coevolution, of, bacterial, pathogens, a...  0.554766  \n",
       "7    (Biophysics, of, excitation, :, Structure, Fun...  0.674997  \n",
       "8    (Meiotic, recombination, ,, recombinational, D...  0.608798  \n",
       "9    (Regulatory, mechanisms, controlling, bacteria...  0.499984  \n",
       "10   (Biology, and, therapy, of, hemoglobinopathies...  0.466903  \n",
       "11   (Studies, sphingolipid, signalling, pathways, ...  0.516739  \n",
       "12   (Human, genetic, variation, and, the, evolutio...  0.497516  \n",
       "13   (Cell, cycle, ,, tumor, suppressor, genes, ,, ...  0.520254  \n",
       "14   (Evolutionary, and, ecological, functional, ge...  0.595044  \n",
       "15   (Regulation, of, epithelial, polarity, and, pr...  0.543442  \n",
       "16   (Developmental, genetics, of, cell, fate, spec...  0.402680  \n",
       "17   (Cell, Adhesion, and, Migration, ,, Cellular, ...  0.572544  \n",
       "18   (Understanding, gene, regulatory, processes, a...  0.485224  \n",
       "19   (I, am, interested, in, microbial, ecology, ,,...  0.500255  \n",
       "20   (Our, group, is, generally, focused, upon, ide...  0.519119  \n",
       "21   (Biogenesis, of, secretory, pathway, organelle...  0.596348  \n",
       "22   (The, molecular, mechanism, of, cytokinesis, i...  0.643863  \n",
       "23   (Arabidopsis, defense, mechanisms, against, ba...  0.537646  \n",
       "24   (Steroid, hormone, regulation, of, gene, netwo...  0.554618  \n",
       "25   (Biomedical, informatics, ,, data, intensive, ...  0.420415  \n",
       "26   (Cellular, and, molecular, mechanisms, that, c...  0.639662  \n",
       "27   (Cellular, differentiation, in, nitrogen, -, f...  0.540168  \n",
       "28   (Regulation, of, gene, expression, by, dynamic...  0.590785  \n",
       "29   (Pattern, formation, and, early, development, ...  0.477997  \n",
       "30   (Structure, of, sickle, -, cell, hemoglobin, f...  0.520179  \n",
       "..                                                 ...       ...  \n",
       "127  (The, use, of, bacteria, their, enzymes, and, ...  0.587191  \n",
       "128  (Biofuels, ,, Enzymology, ,, Genetics, ,, Memb...  0.631644  \n",
       "129  (Biofuels, ,, Bioinformatics, ,, Enzymology, ,...  0.624075  \n",
       "130  (Drug, Discovery, ,, Enzymology, ,, Host, -, P...  0.612238  \n",
       "131  (Molecular, Immunology, ,, Protein, Dynamics, ...  0.614563  \n",
       "132  (Enzymology, ,, Molecular, Evolution, ,, Prote...  0.598908  \n",
       "133  (Enzymology, ,, Membrane, Biology, ,, Protein,...  0.658717  \n",
       "134  (Drug, Discovery, ,, Enzymology, ,, Host, -, P...  0.698289  \n",
       "135  (Drug, Discovery, ,, Enzymology, ,, Genomics, ...  0.610704  \n",
       "136  (Drug, Discovery, ,, Endocrinology, ,, Protein...  0.593029  \n",
       "137  (Drug, Discovery, ,, Endocrinology, ,, Enzymol...  0.675438  \n",
       "138  (Computational, Biology, ,, Membrane, Biology,...  0.664645  \n",
       "139                    (The, mouse, CEACAM1, proteins)  0.599882  \n",
       "140  (Development, and, cancer, of, the, urogenital...  0.594685  \n",
       "141  (mRNA, metabolism, during, the, cell, cycle, a...  0.474891  \n",
       "142  (The, application, of, Nuclear, Magnetic, Reso...  0.555794  \n",
       "143  (Orphan, nuclear, receptors, ,, Vitamin, A, si...  0.534971  \n",
       "144  (The, use, of, genetically, diverse, mouse, in...  0.465550  \n",
       "145  (Understand, how, proteins, determine, the, fa...  0.631961  \n",
       "146                           (Biology, and, Medicine)  0.379843  \n",
       "147  (The, role, of, a, class, of, receptor, tyrosi...  0.540711  \n",
       "148  (Roles, of, CUX1, proteins, in, DNA, damage, r...  0.667331  \n",
       "149  (Mechanisms, of, activation, and, cell, transf...  0.622002  \n",
       "150  (Functional, characterization, of, the, FLCN, ...  0.528037  \n",
       "151  (The, first, is, to, dissect, and, further, el...  0.577002  \n",
       "152  (Bcl-2, Family, Proteins, and, Cancer, ,, Labo...  0.576907  \n",
       "153  (Understanding, the, organization, and, functi...  0.681081  \n",
       "154  (Identification, and, characterization, of, th...  0.508074  \n",
       "155  (Cell, signaling, pathways, and, their, role, ...  0.554819  \n",
       "156  (Three, recently, cloned, enzymes, and, their,...  0.520352  \n",
       "\n",
       "[145 rows x 4 columns]"
      ]
     },
     "execution_count": 215,
     "metadata": {},
     "output_type": "execute_result"
    }
   ],
   "source": [
    "df"
   ]
  },
  {
   "cell_type": "code",
   "execution_count": 216,
   "metadata": {
    "collapsed": false
   },
   "outputs": [
    {
     "data": {
      "text/plain": [
       "Bcl-2 Family Proteins and Cancer, Laboratory for Therapeutic Development."
      ]
     },
     "execution_count": 216,
     "metadata": {},
     "output_type": "execute_result"
    }
   ],
   "source": [
    "nlp(u'Bcl-2 Family Proteins and Cancer, Laboratory for Therapeutic Development.')"
   ]
  },
  {
   "cell_type": "code",
   "execution_count": 217,
   "metadata": {
    "collapsed": true
   },
   "outputs": [
    {
     "name": "stdout",
     "output_type": "stream",
     "text": [
      "PROPN\n",
      "PROPN\n",
      "PROPN\n",
      "CCONJ\n",
      "PROPN\n",
      "PUNCT\n",
      "PROPN\n",
      "ADP\n",
      "PROPN\n",
      "PROPN\n",
      "PUNCT\n"
     ]
    }
   ],
   "source": [
    "for i in nlp(u'Bcl-2 Family Proteins and Cancer, Laboratory for Therapeutic Development.'):\n",
    "    print(i.pos_)"
   ]
  },
  {
   "cell_type": "code",
   "execution_count": 218,
   "metadata": {
    "collapsed": false
   },
   "outputs": [
    {
     "data": {
      "text/plain": [
       "[Therapeutic Development, Laboratory, Cancer, Bcl-2 Family Proteins]"
      ]
     },
     "execution_count": 218,
     "metadata": {},
     "output_type": "execute_result"
    }
   ],
   "source": [
    "get_keywords(nlp(u'Bcl-2 Family Proteins and Cancer, Laboratory for Therapeutic Development.'))"
   ]
  },
  {
   "cell_type": "code",
   "execution_count": null,
   "metadata": {
    "collapsed": true
   },
   "outputs": [],
   "source": []
  },
  {
   "cell_type": "code",
   "execution_count": null,
   "metadata": {
    "collapsed": true
   },
   "outputs": [],
   "source": []
  },
  {
   "cell_type": "code",
   "execution_count": null,
   "metadata": {
    "collapsed": true
   },
   "outputs": [],
   "source": []
  },
  {
   "cell_type": "code",
   "execution_count": null,
   "metadata": {
    "collapsed": true
   },
   "outputs": [],
   "source": []
  },
  {
   "cell_type": "code",
   "execution_count": null,
   "metadata": {
    "collapsed": true
   },
   "outputs": [],
   "source": []
  },
  {
   "cell_type": "code",
   "execution_count": null,
   "metadata": {
    "collapsed": true
   },
   "outputs": [],
   "source": []
  },
  {
   "cell_type": "code",
   "execution_count": null,
   "metadata": {
    "collapsed": true
   },
   "outputs": [],
   "source": []
  },
  {
   "cell_type": "code",
   "execution_count": null,
   "metadata": {
    "collapsed": true
   },
   "outputs": [],
   "source": []
  }
 ],
 "metadata": {
  "anaconda-cloud": {},
  "kernelspec": {
   "display_name": "Python [Root]",
   "language": "python",
   "name": "Python [Root]"
  },
  "language_info": {
   "codemirror_mode": {
    "name": "ipython",
    "version": 2
   },
   "file_extension": ".py",
   "mimetype": "text/x-python",
   "name": "python",
   "nbconvert_exporter": "python",
   "pygments_lexer": "ipython2",
   "version": "2.7.12"
  }
 },
 "nbformat": 4,
 "nbformat_minor": 2
}
